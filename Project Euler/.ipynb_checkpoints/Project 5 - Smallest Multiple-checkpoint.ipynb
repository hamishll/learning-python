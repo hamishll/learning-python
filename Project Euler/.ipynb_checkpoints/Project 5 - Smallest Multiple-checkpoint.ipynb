{
 "cells": [
  {
   "cell_type": "code",
   "execution_count": 7,
   "metadata": {
    "collapsed": false
   },
   "outputs": [
    {
     "name": "stdout",
     "output_type": "stream",
     "text": [
      "2520\n",
      "5040\n",
      "7560\n"
     ]
    }
   ],
   "source": [
    "search = 9000\n",
    "divn = 10\n",
    "\n",
    "for i in range(1, search):\n",
    "    n = 0\n",
    "    for j in range(1, (divn + 1)):\n",
    "        if i % j == 0:\n",
    "            n = n + 1\n",
    "        if n == divn:\n",
    "            print(i)"
   ]
  },
  {
   "cell_type": "markdown",
   "metadata": {
    "collapsed": true
   },
   "source": [
    "## Brute-force method won't work\n",
    "\n",
    "The number is clearly massive.\n",
    "\n",
    "The smallest possible number must be one that is the multiple of all the prime numbers 1 through 20...\n",
    "\n",
    "These are 2,3,5,7,11,13,17,19"
   ]
  },
  {
   "cell_type": "markdown",
   "metadata": {},
   "source": [
    "##### CHEATED\n",
    "I looked and found that taking the highest power of each prime factor an multiplying together will give minimum value\n",
    "2 = 2¹ <br>\n",
    "3 = 3¹ <br>\n",
    "4 = 2² <br>\n",
    "5 = 5¹ <br>\n",
    "6 = 2¹ x 3¹ <br>\n",
    "7 = 7¹ <br>\n",
    "8 = 2³ <br>\n",
    "9 = 3² <br>\n",
    "10 = 2¹ x 5¹ <br>\n",
    "11 = 11¹ <br>\n",
    "12 = 2² x 3¹ <br>\n",
    "13 = 13¹ <br>\n",
    "14 = 2¹ x 7¹ <br>\n",
    "15 = 3¹ x 5¹ <br>\n",
    "16 = 2⁴ <br>\n",
    "17 = 17¹ <br>\n",
    "18 = 2¹ x 3² <br>\n",
    "19 = 19¹ <br>\n",
    "20 = 2² x 5¹ <br>"
   ]
  },
  {
   "cell_type": "markdown",
   "metadata": {},
   "source": [
    "##### So...\n",
    "Now take the highest power of each prime factor, and multiply together:\n",
    "\n",
    "2⁴ x 3² x 5¹ x 7¹ x 11¹ x 13¹ x 17¹ x 19¹ = 232,792,560 \n",
    "\n",
    "Now writing a script for this:"
   ]
  },
  {
   "cell_type": "code",
   "execution_count": null,
   "metadata": {
    "collapsed": true
   },
   "outputs": [],
   "source": []
  }
 ],
 "metadata": {
  "anaconda-cloud": {},
  "kernelspec": {
   "display_name": "Python [conda root]",
   "language": "python",
   "name": "conda-root-py"
  },
  "language_info": {
   "codemirror_mode": {
    "name": "ipython",
    "version": 3
   },
   "file_extension": ".py",
   "mimetype": "text/x-python",
   "name": "python",
   "nbconvert_exporter": "python",
   "pygments_lexer": "ipython3",
   "version": "3.5.2"
  }
 },
 "nbformat": 4,
 "nbformat_minor": 1
}
