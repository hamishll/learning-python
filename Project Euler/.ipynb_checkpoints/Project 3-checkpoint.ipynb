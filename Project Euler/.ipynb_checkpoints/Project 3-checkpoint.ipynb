{
 "cells": [
  {
   "cell_type": "code",
   "execution_count": 4,
   "metadata": {
    "collapsed": false
   },
   "outputs": [
    {
     "name": "stdout",
     "output_type": "stream",
     "text": [
      "[5, 7, 13, 29, 35, 65, 91, 145, 203, 377, 455, 1015, 1885, 2639]\n",
      "[]\n"
     ]
    }
   ],
   "source": [
    "n = 13195\n",
    "factorlist = []\n",
    "primelist = []\n",
    "\n",
    "for i in range(2, n):\n",
    "    if n % i == 0:\n",
    "        factorlist.append(i)\n",
    "            \n",
    "print(factorlist)\n",
    "print(primelist)"
   ]
  },
  {
   "cell_type": "code",
   "execution_count": 5,
   "metadata": {
    "collapsed": true
   },
   "outputs": [],
   "source": [
    "def is_prime(a):\n",
    "    return all(a % i for i in range(2, a))"
   ]
  },
  {
   "cell_type": "code",
   "execution_count": 7,
   "metadata": {
    "collapsed": false
   },
   "outputs": [
    {
     "data": {
      "text/plain": [
       "True"
      ]
     },
     "execution_count": 7,
     "metadata": {},
     "output_type": "execute_result"
    }
   ],
   "source": [
    "is_prime(13)"
   ]
  },
  {
   "cell_type": "code",
   "execution_count": 24,
   "metadata": {
    "collapsed": false
   },
   "outputs": [
    {
     "name": "stdout",
     "output_type": "stream",
     "text": [
      "[5, 61, 197, 305, 985, 12017]\n",
      "---------------\n",
      "[5, 61, 197]\n",
      "---------------\n",
      "Largest prime is  197\n"
     ]
    }
   ],
   "source": [
    "import math\n",
    "\n",
    "n = 60085\n",
    "factorlist = []\n",
    "primelist = []\n",
    "\n",
    "for i in range(2, n):\n",
    "    if i % 2 != 0:\n",
    "        if n % i == 0:\n",
    "            factorlist.append(i)\n",
    "        \n",
    "print(factorlist)\n",
    "print('---------------')\n",
    "\n",
    "for j in factorlist:\n",
    "    count = 0\n",
    "    for k in range(2, int(math.sqrt(j))):\n",
    "        if j % 2 != 0:\n",
    "            if j % k == 0:\n",
    "                count += 1\n",
    "    if count == 0:\n",
    "        primelist.append(j)\n",
    "        \n",
    "print(primelist)\n",
    "print('---------------')\n",
    "print('Largest prime is ', primelist[len(primelist)-1])"
   ]
  },
  {
   "cell_type": "code",
   "execution_count": null,
   "metadata": {
    "collapsed": true
   },
   "outputs": [],
   "source": []
  }
 ],
 "metadata": {
  "anaconda-cloud": {},
  "kernelspec": {
   "display_name": "Python [conda root]",
   "language": "python",
   "name": "conda-root-py"
  },
  "language_info": {
   "codemirror_mode": {
    "name": "ipython",
    "version": 3
   },
   "file_extension": ".py",
   "mimetype": "text/x-python",
   "name": "python",
   "nbconvert_exporter": "python",
   "pygments_lexer": "ipython3",
   "version": "3.5.2"
  }
 },
 "nbformat": 4,
 "nbformat_minor": 1
}
