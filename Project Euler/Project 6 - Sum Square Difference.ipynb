{
 "cells": [
  {
   "cell_type": "code",
   "execution_count": 28,
   "metadata": {
    "collapsed": false
   },
   "outputs": [
    {
     "name": "stdout",
     "output_type": "stream",
     "text": [
      "338350\n",
      "25502500\n",
      "25164150\n"
     ]
    }
   ],
   "source": [
    "limit = 100\n",
    "################################\n",
    "r_limit = limit + 1\n",
    "squares = 0\n",
    "sums = 0\n",
    "\n",
    "for i in range(1,r_limit):\n",
    "    squares = squares + i**2\n",
    "    sums = sums + i\n",
    "\n",
    "print(squares)\n",
    "print(sums ** 2)\n",
    "print(sums ** 2 - squares)"
   ]
  },
  {
   "cell_type": "code",
   "execution_count": null,
   "metadata": {
    "collapsed": true
   },
   "outputs": [],
   "source": []
  }
 ],
 "metadata": {
  "anaconda-cloud": {},
  "kernelspec": {
   "display_name": "Python [conda root]",
   "language": "python",
   "name": "conda-root-py"
  },
  "language_info": {
   "codemirror_mode": {
    "name": "ipython",
    "version": 3
   },
   "file_extension": ".py",
   "mimetype": "text/x-python",
   "name": "python",
   "nbconvert_exporter": "python",
   "pygments_lexer": "ipython3",
   "version": "3.5.2"
  }
 },
 "nbformat": 4,
 "nbformat_minor": 1
}
