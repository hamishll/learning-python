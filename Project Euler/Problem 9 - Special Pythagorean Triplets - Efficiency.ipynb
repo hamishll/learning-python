{
 "cells": [
  {
   "cell_type": "code",
   "execution_count": 1,
   "metadata": {
    "collapsed": false
   },
   "outputs": [
    {
     "name": "stdout",
     "output_type": "stream",
     "text": [
      "200\n",
      "375\n",
      "425\n"
     ]
    }
   ],
   "source": [
    "limit = 1000\n",
    "\n",
    "for a in range(1, limit):\n",
    "    for b in range(1, limit):\n",
    "        if a < b:\n",
    "            for c in range(1, limit):\n",
    "                if b < c:\n",
    "                    if a+b+c == 1000:\n",
    "                        if a**2 + b**2 == c**2:\n",
    "                            print(a)\n",
    "                            print(b)\n",
    "                            print(c)"
   ]
  },
  {
   "cell_type": "markdown",
   "metadata": {
    "collapsed": true
   },
   "source": [
    "Next challenge would be to make this work efficiently, instead of taking 3 minutes"
   ]
  },
  {
   "cell_type": "code",
   "execution_count": null,
   "metadata": {
    "collapsed": true
   },
   "outputs": [],
   "source": []
  }
 ],
 "metadata": {
  "anaconda-cloud": {},
  "kernelspec": {
   "display_name": "Python [conda root]",
   "language": "python",
   "name": "conda-root-py"
  },
  "language_info": {
   "codemirror_mode": {
    "name": "ipython",
    "version": 3
   },
   "file_extension": ".py",
   "mimetype": "text/x-python",
   "name": "python",
   "nbconvert_exporter": "python",
   "pygments_lexer": "ipython3",
   "version": "3.5.2"
  }
 },
 "nbformat": 4,
 "nbformat_minor": 1
}
