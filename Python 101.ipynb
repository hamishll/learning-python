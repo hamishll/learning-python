{
 "cells": [
  {
   "cell_type": "markdown",
   "metadata": {},
   "source": [
    "# Python 101"
   ]
  },
  {
   "cell_type": "markdown",
   "metadata": {},
   "source": [
    "## Modules"
   ]
  },
  {
   "cell_type": "markdown",
   "metadata": {},
   "source": [
    "Start by importing key modules"
   ]
  },
  {
   "cell_type": "code",
   "execution_count": 9,
   "metadata": {
    "collapsed": true,
    "nbpresent": {
     "id": "feac198a-deb4-4a77-9c4f-13bf6b57f3c4"
    }
   },
   "outputs": [],
   "source": [
    "import os\n",
    "import sys\n",
    "import random"
   ]
  },
  {
   "cell_type": "markdown",
   "metadata": {
    "collapsed": true
   },
   "source": [
    "## Strings"
   ]
  },
  {
   "cell_type": "code",
   "execution_count": 2,
   "metadata": {
    "collapsed": false
   },
   "outputs": [
    {
     "name": "stdout",
     "output_type": "stream",
     "text": [
      "6\n"
     ]
    }
   ],
   "source": [
    "word = \"Hamish\"\n",
    "\n",
    "print(len(word))"
   ]
  },
  {
   "cell_type": "code",
   "execution_count": 3,
   "metadata": {
    "collapsed": false
   },
   "outputs": [
    {
     "name": "stdout",
     "output_type": "stream",
     "text": [
      "Ham\n"
     ]
    }
   ],
   "source": [
    "print(word[:3])"
   ]
  },
  {
   "cell_type": "code",
   "execution_count": 4,
   "metadata": {
    "collapsed": false
   },
   "outputs": [
    {
     "name": "stdout",
     "output_type": "stream",
     "text": [
      "ish\n"
     ]
    }
   ],
   "source": [
    "print(word[3:])"
   ]
  },
  {
   "cell_type": "code",
   "execution_count": 9,
   "metadata": {
    "collapsed": false
   },
   "outputs": [
    {
     "name": "stdout",
     "output_type": "stream",
     "text": [
      "Le ish ith Ham\n"
     ]
    }
   ],
   "source": [
    "def word_masher (arg1, arg2):\n",
    "    print(arg2[:2],arg1[3:],arg2[2:],arg1[:3])\n",
    "    \n",
    "word_masher('Hamish', 'Leith')"
   ]
  },
  {
   "cell_type": "markdown",
   "metadata": {},
   "source": [
    "#### Splitting strings\n",
    "\n",
    "colon expresses the inside of the range\n",
    "\n",
    "negative values count indices backwards"
   ]
  },
  {
   "cell_type": "code",
   "execution_count": 5,
   "metadata": {
    "collapsed": false
   },
   "outputs": [
    {
     "name": "stdout",
     "output_type": "stream",
     "text": [
      "s\n",
      "This\n",
      "phrase\n",
      "This is a long \n",
      "This yeah\n"
     ]
    }
   ],
   "source": [
    "long_string = 'This is a long phrase'\n",
    "\n",
    "print(long_string[3])\n",
    "print(long_string[0:4])\n",
    "print(long_string[-6:])\n",
    "print(long_string[:-6])\n",
    "print(long_string[:4] + ' yeah')"
   ]
  },
  {
   "cell_type": "markdown",
   "metadata": {},
   "source": [
    "#### Finding values, checking value types, replacing\n",
    "These are all functions applied to our variable long_string"
   ]
  },
  {
   "cell_type": "code",
   "execution_count": 31,
   "metadata": {
    "collapsed": false
   },
   "outputs": [
    {
     "name": "stdout",
     "output_type": "stream",
     "text": [
      "15\n",
      "False\n",
      "False\n",
      "This is a short phrase\n"
     ]
    }
   ],
   "source": [
    "print(long_string.find(\"phrase\"))\n",
    "print(long_string.isalpha())\n",
    "print(long_string.isalnum())\n",
    "print(long_string.replace(\"long\", \"short\"))"
   ]
  },
  {
   "cell_type": "markdown",
   "metadata": {},
   "source": [
    "#### Splitting to form a list"
   ]
  },
  {
   "cell_type": "code",
   "execution_count": 34,
   "metadata": {
    "collapsed": false
   },
   "outputs": [
    {
     "name": "stdout",
     "output_type": "stream",
     "text": [
      "['This', 'is', 'a', 'long', 'phrase']\n"
     ]
    }
   ],
   "source": [
    "word_list = long_string.split(\" \") \n",
    "#' ' shows how list is separated\n",
    "\n",
    "print(word_list)"
   ]
  },
  {
   "cell_type": "markdown",
   "metadata": {},
   "source": [
    "#### Embedded strings\n",
    "%c = character\n",
    "%s = string\n",
    "%d = digit (integer)\n",
    "%.5f = floating point to 5 decimal places"
   ]
  },
  {
   "cell_type": "code",
   "execution_count": 28,
   "metadata": {
    "collapsed": false
   },
   "outputs": [
    {
     "name": "stdout",
     "output_type": "stream",
     "text": [
      "X is my favourite letter and my number 1 number is 0.14000\n"
     ]
    }
   ],
   "source": [
    "print(\"%c is my %s letter and my number %d number is %.5f\" % ('X', 'favourite', 1, .14))"
   ]
  },
  {
   "cell_type": "markdown",
   "metadata": {},
   "source": [
    "## Pig Latin\n",
    "\n",
    "This first example converts a string to pig latin"
   ]
  },
  {
   "cell_type": "code",
   "execution_count": 4,
   "metadata": {
    "collapsed": false,
    "nbpresent": {
     "id": "f326c31d-a6d7-4f76-bf5d-a5482b273e31"
    }
   },
   "outputs": [
    {
     "name": "stdout",
     "output_type": "stream",
     "text": [
      "ythonpay\n"
     ]
    }
   ],
   "source": [
    "word = \"python\"\n",
    "\n",
    "pig_latin = word[1:] + word[:1] + \"ay\"\n",
    "\n",
    "print(pig_latin)"
   ]
  },
  {
   "cell_type": "code",
   "execution_count": 1,
   "metadata": {
    "collapsed": false,
    "nbpresent": {
     "id": "8242026e-4c4e-45b0-a998-4abc40ccaba4"
    }
   },
   "outputs": [
    {
     "name": "stdout",
     "output_type": "stream",
     "text": [
      "ythonpay\n"
     ]
    }
   ],
   "source": [
    "def pig_convert(word):\n",
    "    print(word[1:] + word[:1] + \"ay\")\n",
    "    return\n",
    "\n",
    "pig_convert(\"python\")"
   ]
  },
  {
   "cell_type": "markdown",
   "metadata": {},
   "source": [
    "## Lists"
   ]
  },
  {
   "cell_type": "code",
   "execution_count": 12,
   "metadata": {
    "collapsed": false
   },
   "outputs": [
    {
     "name": "stdout",
     "output_type": "stream",
     "text": [
      "Oranges\n",
      "['Oranges', 'Pears']\n"
     ]
    }
   ],
   "source": [
    "grocery_list = ['Apples', 'Oranges', 'Pears']\n",
    "\n",
    "print(grocery_list[1])\n",
    "print(grocery_list[1:3])"
   ]
  },
  {
   "cell_type": "code",
   "execution_count": 3,
   "metadata": {
    "collapsed": false
   },
   "outputs": [
    {
     "name": "stdout",
     "output_type": "stream",
     "text": [
      "[['Apples', 'Oranges', 'Pears'], ['Wash dishes', 'Make food', 'Meetings']]\n"
     ]
    }
   ],
   "source": [
    "todo_list = ['Wash dishes', 'Make food', 'Meetings']\n",
    "\n",
    "combined_list = [grocery_list, todo_list]\n",
    "print(combined_list)"
   ]
  },
  {
   "cell_type": "code",
   "execution_count": 4,
   "metadata": {
    "collapsed": false
   },
   "outputs": [
    {
     "name": "stdout",
     "output_type": "stream",
     "text": [
      "Meetings\n"
     ]
    }
   ],
   "source": [
    "#printing specific values in combined lists\n",
    "print(combined_list[1][2])"
   ]
  },
  {
   "cell_type": "markdown",
   "metadata": {},
   "source": [
    "#### Changing values"
   ]
  },
  {
   "cell_type": "code",
   "execution_count": 21,
   "metadata": {
    "collapsed": false
   },
   "outputs": [],
   "source": [
    "#adding a new item\n",
    "grocery_list.append('Onions')"
   ]
  },
  {
   "cell_type": "code",
   "execution_count": 18,
   "metadata": {
    "collapsed": false
   },
   "outputs": [],
   "source": [
    "#removing a value\n",
    "grocery_list.remove('Pears')"
   ]
  },
  {
   "cell_type": "code",
   "execution_count": 20,
   "metadata": {
    "collapsed": false
   },
   "outputs": [],
   "source": [
    "#sorting\n",
    "grocery_list.sort()\n",
    "grocery_list.reverse()\n",
    "\n",
    "#deleting a value in a position\n",
    "del grocery_list[1]"
   ]
  },
  {
   "cell_type": "code",
   "execution_count": 13,
   "metadata": {
    "collapsed": false
   },
   "outputs": [
    {
     "name": "stdout",
     "output_type": "stream",
     "text": [
      "3\n",
      "Pears\n"
     ]
    }
   ],
   "source": [
    "print(len(grocery_list))\n",
    "print(max(grocery_list))"
   ]
  },
  {
   "cell_type": "markdown",
   "metadata": {},
   "source": [
    "## Tuples\n",
    "\n",
    "Can't be changed once created"
   ]
  },
  {
   "cell_type": "code",
   "execution_count": 14,
   "metadata": {
    "collapsed": true
   },
   "outputs": [],
   "source": [
    "pi_tuple = (3,1,4,1,5,9,2)\n",
    "\n",
    "#converting tuples to lists\n",
    "new_list = list(pi_tuple)\n",
    "#converting lists to tuples\n",
    "new_tuple = tuple(new_list)"
   ]
  },
  {
   "cell_type": "markdown",
   "metadata": {},
   "source": [
    "## Dictionaries\n",
    "\n",
    "Values which each have a unique key"
   ]
  },
  {
   "cell_type": "code",
   "execution_count": 19,
   "metadata": {
    "collapsed": true
   },
   "outputs": [],
   "source": [
    "super_heroes = {'Iron Man' : 'Tony Stark',\n",
    "                'Superman' : 'Clark Kent',\n",
    "                'Spiderman' : 'Some dude'}"
   ]
  },
  {
   "cell_type": "code",
   "execution_count": 23,
   "metadata": {
    "collapsed": false
   },
   "outputs": [
    {
     "name": "stdout",
     "output_type": "stream",
     "text": [
      "Tony Stark\n"
     ]
    }
   ],
   "source": [
    "print(super_heroes['Iron Man'])"
   ]
  },
  {
   "cell_type": "code",
   "execution_count": 20,
   "metadata": {
    "collapsed": false
   },
   "outputs": [],
   "source": [
    "#deleting a value\n",
    "del super_heroes['Spiderman']"
   ]
  },
  {
   "cell_type": "code",
   "execution_count": 21,
   "metadata": {
    "collapsed": true
   },
   "outputs": [],
   "source": [
    "#changing a value\n",
    "super_heroes['Superman'] = 'Superduperman'"
   ]
  },
  {
   "cell_type": "markdown",
   "metadata": {},
   "source": [
    "## Else/If"
   ]
  },
  {
   "cell_type": "code",
   "execution_count": 27,
   "metadata": {
    "collapsed": false
   },
   "outputs": [
    {
     "name": "stdout",
     "output_type": "stream",
     "text": [
      "You are old enough to drive\n"
     ]
    }
   ],
   "source": [
    "age = 20\n",
    "\n",
    "if age > 16 :\n",
    "    print('You are old enough to drive')\n",
    "else:\n",
    "    print('You are not old enough to drive')"
   ]
  },
  {
   "cell_type": "code",
   "execution_count": 28,
   "metadata": {
    "collapsed": false
   },
   "outputs": [
    {
     "name": "stdout",
     "output_type": "stream",
     "text": [
      "You are old enough to drive, but not a tractor trailer\n"
     ]
    }
   ],
   "source": [
    "if age >= 21 :\n",
    "    print('You are old enough to drive a tractor trailer')\n",
    "elif ((age >= 16) and (age < 21)) :\n",
    "    print('You are old enough to drive, but not a tractor trailer')"
   ]
  },
  {
   "cell_type": "markdown",
   "metadata": {},
   "source": [
    "## Looping"
   ]
  },
  {
   "cell_type": "code",
   "execution_count": 29,
   "metadata": {
    "collapsed": false
   },
   "outputs": [
    {
     "name": "stdout",
     "output_type": "stream",
     "text": [
      "0  1  2  3  4  5  6  7  8  9  "
     ]
    }
   ],
   "source": [
    "for x in range(0, 10):\n",
    "    print(x, ' ', end=\"\")\n",
    "\n",
    "#' ' statement adds a space\n",
    "#end statement prevents new line forming"
   ]
  },
  {
   "cell_type": "code",
   "execution_count": 31,
   "metadata": {
    "collapsed": false
   },
   "outputs": [
    {
     "name": "stdout",
     "output_type": "stream",
     "text": [
      "Alpha\n",
      "Bravo\n",
      "Charlie\n",
      "Delta\n"
     ]
    }
   ],
   "source": [
    "#printing lists\n",
    "new_list = ['Alpha', 'Bravo', 'Charlie', 'Delta']\n",
    "for y in new_list:\n",
    "    print(y)"
   ]
  },
  {
   "cell_type": "code",
   "execution_count": 33,
   "metadata": {
    "collapsed": false
   },
   "outputs": [
    {
     "name": "stdout",
     "output_type": "stream",
     "text": [
      "2\n",
      "4\n",
      "6\n",
      "8\n",
      "10\n"
     ]
    }
   ],
   "source": [
    "#printing lists directly\n",
    "for z in [2,4,6,8,10]:\n",
    "    print(z)"
   ]
  },
  {
   "cell_type": "code",
   "execution_count": 34,
   "metadata": {
    "collapsed": false
   },
   "outputs": [
    {
     "name": "stdout",
     "output_type": "stream",
     "text": [
      "1\n",
      "2\n",
      "3\n",
      "10\n",
      "20\n",
      "30\n",
      "100\n",
      "200\n",
      "300\n"
     ]
    }
   ],
   "source": [
    "#lists of lists\n",
    "num_list = [[1,2,3],[10,20,30],[100,200,300]]\n",
    "\n",
    "for x in range(0,3):\n",
    "    for y in range(0,3):\n",
    "        print(num_list[x][y])"
   ]
  },
  {
   "cell_type": "code",
   "execution_count": 62,
   "metadata": {
    "collapsed": false
   },
   "outputs": [
    {
     "name": "stdout",
     "output_type": "stream",
     "text": [
      "8\n"
     ]
    }
   ],
   "source": [
    "random_int = random.randrange(0,50)\n",
    "print(random_int)"
   ]
  },
  {
   "cell_type": "code",
   "execution_count": 65,
   "metadata": {
    "collapsed": false
   },
   "outputs": [
    {
     "name": "stdout",
     "output_type": "stream",
     "text": [
      "8  44  26  7  25  19  25  42  43  43  5  20  23  34  38  10  38  16  24  43  23  19  39  42  2  24  27  6  41  36  46  38  36  47  13  32  5  37  15  "
     ]
    }
   ],
   "source": [
    "random_num = random.randrange(0,50)\n",
    "\n",
    "while(random_num != 15):\n",
    "    random_num = random.randrange(0,50)\n",
    "    print(random_num, ' ', end='')"
   ]
  },
  {
   "cell_type": "code",
   "execution_count": 4,
   "metadata": {
    "collapsed": false
   },
   "outputs": [
    {
     "name": "stdout",
     "output_type": "stream",
     "text": [
      "0\n",
      "2\n",
      "4\n",
      "6\n",
      "8\n"
     ]
    }
   ],
   "source": [
    "i = 0;\n",
    "\n",
    "while(i <= 20):\n",
    "    if(i%2 == 0):\n",
    "        print(i)\n",
    "    elif(i == 9):\n",
    "        break\n",
    "    else:\n",
    "        i += 1\n",
    "        continue\n",
    "        \n",
    "    i += 1"
   ]
  },
  {
   "cell_type": "markdown",
   "metadata": {},
   "source": [
    "## Functions"
   ]
  },
  {
   "cell_type": "code",
   "execution_count": 7,
   "metadata": {
    "collapsed": false
   },
   "outputs": [
    {
     "name": "stdout",
     "output_type": "stream",
     "text": [
      "3\n"
     ]
    }
   ],
   "source": [
    "def addNumber(fNum, lNum):\n",
    "    sumNum = fNum + lNum\n",
    "    return sumNum\n",
    "    \n",
    "print(addNumber(1,2))"
   ]
  },
  {
   "cell_type": "markdown",
   "metadata": {},
   "source": [
    "Variables aren't available outside of function - they are said to be out of scope"
   ]
  },
  {
   "cell_type": "code",
   "execution_count": 10,
   "metadata": {
    "collapsed": false
   },
   "outputs": [
    {
     "name": "stdout",
     "output_type": "stream",
     "text": [
      "Hello \n"
     ]
    }
   ],
   "source": [
    "#printing your name\n",
    "\n",
    "name = sys.stdin.readline() #presumably this doesn't work because using jupyter\n",
    "print('Hello', name)"
   ]
  },
  {
   "cell_type": "markdown",
   "metadata": {},
   "source": [
    "## Using files\n",
    "\n",
    "#### Creating files\n",
    "This creates and opens a file"
   ]
  },
  {
   "cell_type": "code",
   "execution_count": 35,
   "metadata": {
    "collapsed": true
   },
   "outputs": [],
   "source": [
    "test_file = open(\"test.txt\", \"wb\")\n",
    "#wb indicates file mode (?)"
   ]
  },
  {
   "cell_type": "code",
   "execution_count": 36,
   "metadata": {
    "collapsed": false
   },
   "outputs": [
    {
     "name": "stdout",
     "output_type": "stream",
     "text": [
      "wb\n"
     ]
    }
   ],
   "source": [
    "print(test_file.mode)"
   ]
  },
  {
   "cell_type": "code",
   "execution_count": 37,
   "metadata": {
    "collapsed": false
   },
   "outputs": [
    {
     "name": "stdout",
     "output_type": "stream",
     "text": [
      "test.txt\n"
     ]
    }
   ],
   "source": [
    "print(test_file.name)"
   ]
  },
  {
   "cell_type": "code",
   "execution_count": 39,
   "metadata": {
    "collapsed": false
   },
   "outputs": [],
   "source": [
    "test_file.write(bytes(\"Write me to the file\\n\", 'UTF-8'))\n",
    "test_file.close()"
   ]
  },
  {
   "cell_type": "markdown",
   "metadata": {},
   "source": [
    "#### Opening files"
   ]
  },
  {
   "cell_type": "code",
   "execution_count": 40,
   "metadata": {
    "collapsed": true
   },
   "outputs": [],
   "source": [
    "test_file = open(\"test.txt\", \"r+\")\n",
    "# r+ opens file for reading and writing"
   ]
  },
  {
   "cell_type": "code",
   "execution_count": 41,
   "metadata": {
    "collapsed": false
   },
   "outputs": [
    {
     "name": "stdout",
     "output_type": "stream",
     "text": [
      "Write me to the file\n",
      "Write me to the file\n",
      "\n"
     ]
    }
   ],
   "source": [
    "text_in_file = test_file.read()\n",
    "print(text_in_file)"
   ]
  },
  {
   "cell_type": "code",
   "execution_count": null,
   "metadata": {
    "collapsed": true
   },
   "outputs": [],
   "source": [
    "#to delete file ---> os.remove(\"test.txt\")"
   ]
  },
  {
   "cell_type": "markdown",
   "metadata": {},
   "source": [
    "## Objects"
   ]
  },
  {
   "cell_type": "markdown",
   "metadata": {},
   "source": [
    "Object-oriented programming allows the attributes of real-world objects to be defined.\n",
    "Eg: height, weight, name"
   ]
  },
  {
   "cell_type": "code",
   "execution_count": 63,
   "metadata": {
    "collapsed": false
   },
   "outputs": [],
   "source": [
    "class Animal:\n",
    "    _name = \"\"\n",
    "    _height = 0\n",
    "    _weight = 0\n",
    "    _sound = 0\n",
    "    \n",
    "    #double underscore means attributes are private - to change\n",
    "    #their values they must be called within a function of Animals\n",
    "\n",
    "    #constructors are used to set-up / initialise an object\n",
    "    def __init__(self, name, height, weight, sound):\n",
    "        self._name = name\n",
    "        self._height = height\n",
    "        self._weight = weight\n",
    "        self._sound = sound\n",
    "    \n",
    "    #functions to read and write values to attributes\n",
    "    #these are called setters and getters\n",
    "    \n",
    "    #setters\n",
    "    def set_name(self, name):\n",
    "        self._name = name\n",
    "        \n",
    "    def set_height(self, height):\n",
    "        self._height = height\n",
    "        \n",
    "    def set_weight(self, weight):\n",
    "        self._weight = weight\n",
    "        \n",
    "    def set_sound(self, sound):\n",
    "        self._sound = sound\n",
    "    \n",
    "    #getters\n",
    "    def get_name(self):\n",
    "        return self._name\n",
    "    \n",
    "    def get_height(self):\n",
    "        return self._height\n",
    "    \n",
    "    def get_weight(self):\n",
    "        return self._weight\n",
    "    \n",
    "    def get_sound(self):\n",
    "        return self._sound\n",
    "    \n",
    "    #getter for class name\n",
    "    def get_type(self):\n",
    "        print(\"Animal\")\n",
    "        \n",
    "    #\n",
    "    def toString(self):\n",
    "        return \"{} is {} cm tall and {} kilograms and says {}\".format(self._name,\n",
    "                                                                      self._height,\n",
    "                                                                      self._weight,\n",
    "                                                                      self._sound)"
   ]
  },
  {
   "cell_type": "code",
   "execution_count": 64,
   "metadata": {
    "collapsed": false
   },
   "outputs": [
    {
     "name": "stdout",
     "output_type": "stream",
     "text": [
      "Whiskers is 33 cm tall and 10 kilograms and says Meow\n"
     ]
    }
   ],
   "source": [
    "cat = Animal('Whiskers', 33, 10, 'Meow')\n",
    "print(cat.toString())"
   ]
  },
  {
   "cell_type": "code",
   "execution_count": 65,
   "metadata": {
    "collapsed": true
   },
   "outputs": [],
   "source": [
    "#Create new Dog class, inheriting attributes from Animal class:\n",
    "#plus new attribute, owner\n",
    "class Dog(Animal):\n",
    "    _owner = \"\"\n",
    "    \n",
    "    #once again we initialise with a constructor statement\n",
    "    def __init__(self, name, height, weight, sound, owner):\n",
    "        self._owner = owner\n",
    "        #we want other values to be inherited from the super class 'Animal'\n",
    "        super(Dog, self).__init__(name, height, weight, sound)\n",
    "    \n",
    "    #setter for owner attribute\n",
    "    def set_owner(self, owner):\n",
    "        self._owner = owner\n",
    "    \n",
    "    #getter for owner attribute\n",
    "    def get_owner(self):\n",
    "        return self._owner\n",
    "    \n",
    "    #getter for type\n",
    "    def get_type(self):\n",
    "        return(\"Dog\")\n",
    "    \n",
    "    def toString(self):\n",
    "        return \"{} is {} cm tall and {} kilograms and says {} , his owner is {}\".format(self._name, self._height, self._weight, self._sound, self._owner)"
   ]
  },
  {
   "cell_type": "code",
   "execution_count": 66,
   "metadata": {
    "collapsed": false
   },
   "outputs": [
    {
     "name": "stdout",
     "output_type": "stream",
     "text": [
      "Buster is 45 cm tall and 5 kilograms and says Woof , his owner is Bertie\n"
     ]
    }
   ],
   "source": [
    "buster = Dog('Buster', 45, 5, 'Woof', 'Bertie')\n",
    "print(buster.toString())"
   ]
  },
  {
   "cell_type": "code",
   "execution_count": 67,
   "metadata": {
    "collapsed": true
   },
   "outputs": [],
   "source": [
    "#Polymorphism\n",
    "#refer to objects as their superclass and automatically have correct functions called"
   ]
  },
  {
   "cell_type": "code",
   "execution_count": 69,
   "metadata": {
    "collapsed": false
   },
   "outputs": [
    {
     "name": "stdout",
     "output_type": "stream",
     "text": [
      "Animal\n"
     ]
    }
   ],
   "source": [
    "class AnimalTesting:\n",
    "    def get_type(self, animal):\n",
    "        animal.get_type()\n",
    "        \n",
    "test_animals = AnimalTesting()\n",
    "\n",
    "test_animals.get_type(cat)\n",
    "test_animals.get_type(buster)"
   ]
  },
  {
   "cell_type": "code",
   "execution_count": null,
   "metadata": {
    "collapsed": true
   },
   "outputs": [],
   "source": []
  }
 ],
 "metadata": {
  "anaconda-cloud": {},
  "kernelspec": {
   "display_name": "Python [conda root]",
   "language": "python",
   "name": "conda-root-py"
  },
  "language_info": {
   "codemirror_mode": {
    "name": "ipython",
    "version": 3
   },
   "file_extension": ".py",
   "mimetype": "text/x-python",
   "name": "python",
   "nbconvert_exporter": "python",
   "pygments_lexer": "ipython3",
   "version": "3.5.2"
  },
  "nbpresent": {
   "slides": {
    "500af137-6ad2-4705-83df-0f2af02d43b4": {
     "id": "500af137-6ad2-4705-83df-0f2af02d43b4",
     "prev": "505a40e0-7d04-4b96-a9b0-9933d02d9ab3",
     "regions": {
      "723a52dd-54b0-4b7e-8506-4671325772e2": {
       "attrs": {
        "height": 0.8,
        "width": 0.8,
        "x": 0.1,
        "y": 0.1
       },
       "content": {
        "cell": "f326c31d-a6d7-4f76-bf5d-a5482b273e31",
        "part": "whole"
       },
       "id": "723a52dd-54b0-4b7e-8506-4671325772e2"
      }
     }
    },
    "505a40e0-7d04-4b96-a9b0-9933d02d9ab3": {
     "id": "505a40e0-7d04-4b96-a9b0-9933d02d9ab3",
     "prev": null,
     "regions": {
      "d3efce25-2905-4106-9af1-4f3cb1148d2e": {
       "attrs": {
        "height": 0.8,
        "width": 0.8,
        "x": 0.1,
        "y": 0.1
       },
       "content": {
        "cell": "feac198a-deb4-4a77-9c4f-13bf6b57f3c4",
        "part": "whole"
       },
       "id": "d3efce25-2905-4106-9af1-4f3cb1148d2e"
      }
     }
    },
    "50aa0602-1bbc-4cdc-be7d-a0f119e51d11": {
     "id": "50aa0602-1bbc-4cdc-be7d-a0f119e51d11",
     "prev": "b6485133-0e1e-4b61-98c5-ab9dec7c4f5e",
     "regions": {
      "6438a3ee-1f7e-4ae5-a37e-be4ab74a6ca6": {
       "attrs": {
        "height": 0.8,
        "width": 0.8,
        "x": 0.1,
        "y": 0.1
       },
       "content": {
        "cell": "8242026e-4c4e-45b0-a998-4abc40ccaba4",
        "part": "whole"
       },
       "id": "6438a3ee-1f7e-4ae5-a37e-be4ab74a6ca6"
      }
     }
    },
    "b6485133-0e1e-4b61-98c5-ab9dec7c4f5e": {
     "id": "b6485133-0e1e-4b61-98c5-ab9dec7c4f5e",
     "prev": "500af137-6ad2-4705-83df-0f2af02d43b4",
     "regions": {
      "c454ac27-30d6-40fc-b984-9fd3925465e0": {
       "attrs": {
        "height": 0.8,
        "width": 0.8,
        "x": 0.1,
        "y": 0.1
       },
       "content": {
        "cell": "d8a30830-bc33-4606-aec1-eef56d311a83",
        "part": "whole"
       },
       "id": "c454ac27-30d6-40fc-b984-9fd3925465e0"
      }
     }
    }
   },
   "themes": {}
  }
 },
 "nbformat": 4,
 "nbformat_minor": 0
}
