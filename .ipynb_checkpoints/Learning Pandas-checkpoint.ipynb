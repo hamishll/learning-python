{
 "cells": [
  {
   "cell_type": "markdown",
   "metadata": {},
   "source": [
    "# Learning Pandas"
   ]
  },
  {
   "cell_type": "code",
   "execution_count": 2,
   "metadata": {
    "collapsed": true
   },
   "outputs": [],
   "source": [
    "import pandas as pd\n",
    "import numpy as np\n",
    "import matplotlib as plt"
   ]
  },
  {
   "cell_type": "markdown",
   "metadata": {},
   "source": [
    "## Creating Pandas series"
   ]
  },
  {
   "cell_type": "code",
   "execution_count": 62,
   "metadata": {
    "collapsed": false
   },
   "outputs": [
    {
     "data": {
      "text/plain": [
       "0     1.0\n",
       "1     2.0\n",
       "2     3.0\n",
       "3     7.0\n",
       "4     8.0\n",
       "5     9.0\n",
       "6    13.0\n",
       "7    12.0\n",
       "dtype: float64"
      ]
     },
     "execution_count": 62,
     "metadata": {},
     "output_type": "execute_result"
    }
   ],
   "source": [
    "s = pd.Series([1, 2, 3, 7, 8.0, 9, 13, 12])\n",
    "s"
   ]
  },
  {
   "cell_type": "markdown",
   "metadata": {},
   "source": [
    "## Creating Pandas dataframes"
   ]
  },
  {
   "cell_type": "markdown",
   "metadata": {},
   "source": [
    "#### Basics"
   ]
  },
  {
   "cell_type": "code",
   "execution_count": 64,
   "metadata": {
    "collapsed": false
   },
   "outputs": [
    {
     "data": {
      "text/html": [
       "<div>\n",
       "<table border=\"1\" class=\"dataframe\">\n",
       "  <thead>\n",
       "    <tr style=\"text-align: right;\">\n",
       "      <th></th>\n",
       "      <th>A</th>\n",
       "      <th>B</th>\n",
       "      <th>C</th>\n",
       "      <th>D</th>\n",
       "    </tr>\n",
       "  </thead>\n",
       "  <tbody>\n",
       "    <tr>\n",
       "      <th>2013-01-01</th>\n",
       "      <td>-0.753207</td>\n",
       "      <td>-0.993216</td>\n",
       "      <td>-1.533464</td>\n",
       "      <td>-2.330010</td>\n",
       "    </tr>\n",
       "    <tr>\n",
       "      <th>2013-01-02</th>\n",
       "      <td>0.772204</td>\n",
       "      <td>0.071559</td>\n",
       "      <td>-0.420493</td>\n",
       "      <td>0.138025</td>\n",
       "    </tr>\n",
       "    <tr>\n",
       "      <th>2013-01-03</th>\n",
       "      <td>0.963797</td>\n",
       "      <td>0.813247</td>\n",
       "      <td>-0.157811</td>\n",
       "      <td>0.495329</td>\n",
       "    </tr>\n",
       "    <tr>\n",
       "      <th>2013-01-04</th>\n",
       "      <td>-0.049828</td>\n",
       "      <td>0.872155</td>\n",
       "      <td>1.811954</td>\n",
       "      <td>0.404826</td>\n",
       "    </tr>\n",
       "    <tr>\n",
       "      <th>2013-01-05</th>\n",
       "      <td>-0.886720</td>\n",
       "      <td>1.288625</td>\n",
       "      <td>-0.465624</td>\n",
       "      <td>-0.225705</td>\n",
       "    </tr>\n",
       "    <tr>\n",
       "      <th>2013-01-06</th>\n",
       "      <td>0.108346</td>\n",
       "      <td>0.284166</td>\n",
       "      <td>0.580523</td>\n",
       "      <td>1.737133</td>\n",
       "    </tr>\n",
       "    <tr>\n",
       "      <th>2013-01-07</th>\n",
       "      <td>-0.146902</td>\n",
       "      <td>1.322573</td>\n",
       "      <td>0.186455</td>\n",
       "      <td>1.200900</td>\n",
       "    </tr>\n",
       "    <tr>\n",
       "      <th>2013-01-08</th>\n",
       "      <td>0.613158</td>\n",
       "      <td>0.925278</td>\n",
       "      <td>0.014431</td>\n",
       "      <td>-0.244244</td>\n",
       "    </tr>\n",
       "  </tbody>\n",
       "</table>\n",
       "</div>"
      ],
      "text/plain": [
       "                   A         B         C         D\n",
       "2013-01-01 -0.753207 -0.993216 -1.533464 -2.330010\n",
       "2013-01-02  0.772204  0.071559 -0.420493  0.138025\n",
       "2013-01-03  0.963797  0.813247 -0.157811  0.495329\n",
       "2013-01-04 -0.049828  0.872155  1.811954  0.404826\n",
       "2013-01-05 -0.886720  1.288625 -0.465624 -0.225705\n",
       "2013-01-06  0.108346  0.284166  0.580523  1.737133\n",
       "2013-01-07 -0.146902  1.322573  0.186455  1.200900\n",
       "2013-01-08  0.613158  0.925278  0.014431 -0.244244"
      ]
     },
     "execution_count": 64,
     "metadata": {},
     "output_type": "execute_result"
    }
   ],
   "source": [
    "dates = pd.date_range('20130101', periods=8)\n",
    "\n",
    "df = pd.DataFrame(np.random.randn(8,4), dates, columns = list('ABCD'))\n",
    "df"
   ]
  },
  {
   "cell_type": "markdown",
   "metadata": {},
   "source": [
    "#### Creating a DataFrame from a dictionary <span style=\"color: #FF0000\">This is useful!</span>"
   ]
  },
  {
   "cell_type": "code",
   "execution_count": 35,
   "metadata": {
    "collapsed": false
   },
   "outputs": [
    {
     "data": {
      "text/html": [
       "<div>\n",
       "<table border=\"1\" class=\"dataframe\">\n",
       "  <thead>\n",
       "    <tr style=\"text-align: right;\">\n",
       "      <th></th>\n",
       "      <th>A</th>\n",
       "      <th>B</th>\n",
       "      <th>C</th>\n",
       "      <th>D</th>\n",
       "      <th>E</th>\n",
       "      <th>F</th>\n",
       "    </tr>\n",
       "  </thead>\n",
       "  <tbody>\n",
       "    <tr>\n",
       "      <th>0</th>\n",
       "      <td>1.0</td>\n",
       "      <td>2013-01-02</td>\n",
       "      <td>1.0</td>\n",
       "      <td>3</td>\n",
       "      <td>test</td>\n",
       "      <td>foo</td>\n",
       "    </tr>\n",
       "    <tr>\n",
       "      <th>1</th>\n",
       "      <td>1.0</td>\n",
       "      <td>2013-01-02</td>\n",
       "      <td>1.0</td>\n",
       "      <td>3</td>\n",
       "      <td>train</td>\n",
       "      <td>foo</td>\n",
       "    </tr>\n",
       "    <tr>\n",
       "      <th>2</th>\n",
       "      <td>1.0</td>\n",
       "      <td>2013-01-02</td>\n",
       "      <td>1.0</td>\n",
       "      <td>3</td>\n",
       "      <td>test</td>\n",
       "      <td>foo</td>\n",
       "    </tr>\n",
       "    <tr>\n",
       "      <th>3</th>\n",
       "      <td>1.0</td>\n",
       "      <td>2013-01-02</td>\n",
       "      <td>1.0</td>\n",
       "      <td>3</td>\n",
       "      <td>train</td>\n",
       "      <td>foo</td>\n",
       "    </tr>\n",
       "  </tbody>\n",
       "</table>\n",
       "</div>"
      ],
      "text/plain": [
       "     A          B    C  D      E    F\n",
       "0  1.0 2013-01-02  1.0  3   test  foo\n",
       "1  1.0 2013-01-02  1.0  3  train  foo\n",
       "2  1.0 2013-01-02  1.0  3   test  foo\n",
       "3  1.0 2013-01-02  1.0  3  train  foo"
      ]
     },
     "execution_count": 35,
     "metadata": {},
     "output_type": "execute_result"
    }
   ],
   "source": [
    "df2 = pd.DataFrame({  'A' : 1.,\n",
    "                      'B' : pd.Timestamp('20130102'),\n",
    "                      'C' : pd.Series(1,index=list(range(4)),dtype='float32'),\n",
    "                      'D' : np.array([3] * 4,dtype='int32'),\n",
    "                      'E' : pd.Categorical([\"test\",\"train\",\"test\",\"train\"]),\n",
    "                      'F' : 'foo' })\n",
    "df2"
   ]
  },
  {
   "cell_type": "markdown",
   "metadata": {},
   "source": [
    "#### Reading from files:"
   ]
  },
  {
   "cell_type": "code",
   "execution_count": null,
   "metadata": {
    "collapsed": true
   },
   "outputs": [],
   "source": [
    "df = pd.read_csv('my_file.csv')"
   ]
  },
  {
   "cell_type": "markdown",
   "metadata": {},
   "source": [
    "## Viewing data"
   ]
  },
  {
   "cell_type": "markdown",
   "metadata": {},
   "source": [
    "#### Data types"
   ]
  },
  {
   "cell_type": "code",
   "execution_count": 23,
   "metadata": {
    "collapsed": false
   },
   "outputs": [
    {
     "data": {
      "text/plain": [
       "A           float64\n",
       "B    datetime64[ns]\n",
       "C           float32\n",
       "D             int32\n",
       "E          category\n",
       "F            object\n",
       "dtype: object"
      ]
     },
     "execution_count": 23,
     "metadata": {},
     "output_type": "execute_result"
    }
   ],
   "source": [
    "df2.dtypes"
   ]
  },
  {
   "cell_type": "markdown",
   "metadata": {},
   "source": [
    "#### Head and tail values"
   ]
  },
  {
   "cell_type": "code",
   "execution_count": 36,
   "metadata": {
    "collapsed": false
   },
   "outputs": [
    {
     "data": {
      "text/html": [
       "<div>\n",
       "<table border=\"1\" class=\"dataframe\">\n",
       "  <thead>\n",
       "    <tr style=\"text-align: right;\">\n",
       "      <th></th>\n",
       "      <th>A</th>\n",
       "      <th>B</th>\n",
       "      <th>C</th>\n",
       "      <th>D</th>\n",
       "    </tr>\n",
       "  </thead>\n",
       "  <tbody>\n",
       "    <tr>\n",
       "      <th>2013-01-01</th>\n",
       "      <td>-1.047983</td>\n",
       "      <td>-0.811500</td>\n",
       "      <td>0.052438</td>\n",
       "      <td>0.826759</td>\n",
       "    </tr>\n",
       "    <tr>\n",
       "      <th>2013-01-02</th>\n",
       "      <td>0.335830</td>\n",
       "      <td>-0.655428</td>\n",
       "      <td>0.504784</td>\n",
       "      <td>-1.914111</td>\n",
       "    </tr>\n",
       "    <tr>\n",
       "      <th>2013-01-03</th>\n",
       "      <td>-1.279634</td>\n",
       "      <td>0.889081</td>\n",
       "      <td>2.453369</td>\n",
       "      <td>-0.905170</td>\n",
       "    </tr>\n",
       "    <tr>\n",
       "      <th>2013-01-04</th>\n",
       "      <td>-0.548608</td>\n",
       "      <td>0.222500</td>\n",
       "      <td>2.707359</td>\n",
       "      <td>1.554685</td>\n",
       "    </tr>\n",
       "    <tr>\n",
       "      <th>2013-01-05</th>\n",
       "      <td>1.046846</td>\n",
       "      <td>0.153002</td>\n",
       "      <td>0.262791</td>\n",
       "      <td>-0.270367</td>\n",
       "    </tr>\n",
       "  </tbody>\n",
       "</table>\n",
       "</div>"
      ],
      "text/plain": [
       "                   A         B         C         D\n",
       "2013-01-01 -1.047983 -0.811500  0.052438  0.826759\n",
       "2013-01-02  0.335830 -0.655428  0.504784 -1.914111\n",
       "2013-01-03 -1.279634  0.889081  2.453369 -0.905170\n",
       "2013-01-04 -0.548608  0.222500  2.707359  1.554685\n",
       "2013-01-05  1.046846  0.153002  0.262791 -0.270367"
      ]
     },
     "execution_count": 36,
     "metadata": {},
     "output_type": "execute_result"
    }
   ],
   "source": [
    "df.head()"
   ]
  },
  {
   "cell_type": "code",
   "execution_count": 37,
   "metadata": {
    "collapsed": false
   },
   "outputs": [
    {
     "data": {
      "text/html": [
       "<div>\n",
       "<table border=\"1\" class=\"dataframe\">\n",
       "  <thead>\n",
       "    <tr style=\"text-align: right;\">\n",
       "      <th></th>\n",
       "      <th>A</th>\n",
       "      <th>B</th>\n",
       "      <th>C</th>\n",
       "      <th>D</th>\n",
       "    </tr>\n",
       "  </thead>\n",
       "  <tbody>\n",
       "    <tr>\n",
       "      <th>2013-01-04</th>\n",
       "      <td>-0.548608</td>\n",
       "      <td>0.222500</td>\n",
       "      <td>2.707359</td>\n",
       "      <td>1.554685</td>\n",
       "    </tr>\n",
       "    <tr>\n",
       "      <th>2013-01-05</th>\n",
       "      <td>1.046846</td>\n",
       "      <td>0.153002</td>\n",
       "      <td>0.262791</td>\n",
       "      <td>-0.270367</td>\n",
       "    </tr>\n",
       "    <tr>\n",
       "      <th>2013-01-06</th>\n",
       "      <td>0.915287</td>\n",
       "      <td>-0.489302</td>\n",
       "      <td>-0.518009</td>\n",
       "      <td>1.403608</td>\n",
       "    </tr>\n",
       "    <tr>\n",
       "      <th>2013-01-07</th>\n",
       "      <td>-0.961829</td>\n",
       "      <td>-2.034516</td>\n",
       "      <td>0.368461</td>\n",
       "      <td>-0.809656</td>\n",
       "    </tr>\n",
       "    <tr>\n",
       "      <th>2013-01-08</th>\n",
       "      <td>-0.045291</td>\n",
       "      <td>0.341185</td>\n",
       "      <td>-0.736567</td>\n",
       "      <td>0.201288</td>\n",
       "    </tr>\n",
       "  </tbody>\n",
       "</table>\n",
       "</div>"
      ],
      "text/plain": [
       "                   A         B         C         D\n",
       "2013-01-04 -0.548608  0.222500  2.707359  1.554685\n",
       "2013-01-05  1.046846  0.153002  0.262791 -0.270367\n",
       "2013-01-06  0.915287 -0.489302 -0.518009  1.403608\n",
       "2013-01-07 -0.961829 -2.034516  0.368461 -0.809656\n",
       "2013-01-08 -0.045291  0.341185 -0.736567  0.201288"
      ]
     },
     "execution_count": 37,
     "metadata": {},
     "output_type": "execute_result"
    }
   ],
   "source": [
    "df.tail()"
   ]
  },
  {
   "cell_type": "markdown",
   "metadata": {},
   "source": [
    "#### Display index, columns and data values"
   ]
  },
  {
   "cell_type": "code",
   "execution_count": 38,
   "metadata": {
    "collapsed": false
   },
   "outputs": [
    {
     "data": {
      "text/plain": [
       "DatetimeIndex(['2013-01-01', '2013-01-02', '2013-01-03', '2013-01-04',\n",
       "               '2013-01-05', '2013-01-06', '2013-01-07', '2013-01-08'],\n",
       "              dtype='datetime64[ns]', freq='D')"
      ]
     },
     "execution_count": 38,
     "metadata": {},
     "output_type": "execute_result"
    }
   ],
   "source": [
    "df.index"
   ]
  },
  {
   "cell_type": "code",
   "execution_count": 39,
   "metadata": {
    "collapsed": false
   },
   "outputs": [
    {
     "data": {
      "text/plain": [
       "Index(['A', 'B', 'C', 'D'], dtype='object')"
      ]
     },
     "execution_count": 39,
     "metadata": {},
     "output_type": "execute_result"
    }
   ],
   "source": [
    "df.columns"
   ]
  },
  {
   "cell_type": "code",
   "execution_count": 40,
   "metadata": {
    "collapsed": false
   },
   "outputs": [
    {
     "data": {
      "text/plain": [
       "array([[-1.04798348, -0.8114997 ,  0.05243811,  0.82675931],\n",
       "       [ 0.33583048, -0.65542845,  0.50478422, -1.91411118],\n",
       "       [-1.27963415,  0.88908109,  2.45336886, -0.90516989],\n",
       "       [-0.5486075 ,  0.22250005,  2.70735895,  1.55468455],\n",
       "       [ 1.04684611,  0.15300232,  0.26279067, -0.27036702],\n",
       "       [ 0.9152867 , -0.48930241, -0.51800866,  1.40360774],\n",
       "       [-0.9618291 , -2.03451635,  0.36846066, -0.80965558],\n",
       "       [-0.04529055,  0.34118538, -0.73656735,  0.20128758]])"
      ]
     },
     "execution_count": 40,
     "metadata": {},
     "output_type": "execute_result"
    }
   ],
   "source": [
    "df.values"
   ]
  },
  {
   "cell_type": "markdown",
   "metadata": {},
   "source": [
    "#### Transpose data"
   ]
  },
  {
   "cell_type": "code",
   "execution_count": 41,
   "metadata": {
    "collapsed": false
   },
   "outputs": [
    {
     "data": {
      "text/html": [
       "<div>\n",
       "<table border=\"1\" class=\"dataframe\">\n",
       "  <thead>\n",
       "    <tr style=\"text-align: right;\">\n",
       "      <th></th>\n",
       "      <th>2013-01-01 00:00:00</th>\n",
       "      <th>2013-01-02 00:00:00</th>\n",
       "      <th>2013-01-03 00:00:00</th>\n",
       "      <th>2013-01-04 00:00:00</th>\n",
       "      <th>2013-01-05 00:00:00</th>\n",
       "      <th>2013-01-06 00:00:00</th>\n",
       "      <th>2013-01-07 00:00:00</th>\n",
       "      <th>2013-01-08 00:00:00</th>\n",
       "    </tr>\n",
       "  </thead>\n",
       "  <tbody>\n",
       "    <tr>\n",
       "      <th>A</th>\n",
       "      <td>-1.047983</td>\n",
       "      <td>0.335830</td>\n",
       "      <td>-1.279634</td>\n",
       "      <td>-0.548608</td>\n",
       "      <td>1.046846</td>\n",
       "      <td>0.915287</td>\n",
       "      <td>-0.961829</td>\n",
       "      <td>-0.045291</td>\n",
       "    </tr>\n",
       "    <tr>\n",
       "      <th>B</th>\n",
       "      <td>-0.811500</td>\n",
       "      <td>-0.655428</td>\n",
       "      <td>0.889081</td>\n",
       "      <td>0.222500</td>\n",
       "      <td>0.153002</td>\n",
       "      <td>-0.489302</td>\n",
       "      <td>-2.034516</td>\n",
       "      <td>0.341185</td>\n",
       "    </tr>\n",
       "    <tr>\n",
       "      <th>C</th>\n",
       "      <td>0.052438</td>\n",
       "      <td>0.504784</td>\n",
       "      <td>2.453369</td>\n",
       "      <td>2.707359</td>\n",
       "      <td>0.262791</td>\n",
       "      <td>-0.518009</td>\n",
       "      <td>0.368461</td>\n",
       "      <td>-0.736567</td>\n",
       "    </tr>\n",
       "    <tr>\n",
       "      <th>D</th>\n",
       "      <td>0.826759</td>\n",
       "      <td>-1.914111</td>\n",
       "      <td>-0.905170</td>\n",
       "      <td>1.554685</td>\n",
       "      <td>-0.270367</td>\n",
       "      <td>1.403608</td>\n",
       "      <td>-0.809656</td>\n",
       "      <td>0.201288</td>\n",
       "    </tr>\n",
       "  </tbody>\n",
       "</table>\n",
       "</div>"
      ],
      "text/plain": [
       "   2013-01-01  2013-01-02  2013-01-03  2013-01-04  2013-01-05  2013-01-06  \\\n",
       "A   -1.047983    0.335830   -1.279634   -0.548608    1.046846    0.915287   \n",
       "B   -0.811500   -0.655428    0.889081    0.222500    0.153002   -0.489302   \n",
       "C    0.052438    0.504784    2.453369    2.707359    0.262791   -0.518009   \n",
       "D    0.826759   -1.914111   -0.905170    1.554685   -0.270367    1.403608   \n",
       "\n",
       "   2013-01-07  2013-01-08  \n",
       "A   -0.961829   -0.045291  \n",
       "B   -2.034516    0.341185  \n",
       "C    0.368461   -0.736567  \n",
       "D   -0.809656    0.201288  "
      ]
     },
     "execution_count": 41,
     "metadata": {},
     "output_type": "execute_result"
    }
   ],
   "source": [
    "df.T"
   ]
  },
  {
   "cell_type": "markdown",
   "metadata": {},
   "source": [
    "#### Sorting"
   ]
  },
  {
   "cell_type": "code",
   "execution_count": 42,
   "metadata": {
    "collapsed": false
   },
   "outputs": [
    {
     "data": {
      "text/html": [
       "<div>\n",
       "<table border=\"1\" class=\"dataframe\">\n",
       "  <thead>\n",
       "    <tr style=\"text-align: right;\">\n",
       "      <th></th>\n",
       "      <th>A</th>\n",
       "      <th>B</th>\n",
       "      <th>C</th>\n",
       "      <th>D</th>\n",
       "    </tr>\n",
       "  </thead>\n",
       "  <tbody>\n",
       "    <tr>\n",
       "      <th>2013-01-07</th>\n",
       "      <td>-0.961829</td>\n",
       "      <td>-2.034516</td>\n",
       "      <td>0.368461</td>\n",
       "      <td>-0.809656</td>\n",
       "    </tr>\n",
       "    <tr>\n",
       "      <th>2013-01-01</th>\n",
       "      <td>-1.047983</td>\n",
       "      <td>-0.811500</td>\n",
       "      <td>0.052438</td>\n",
       "      <td>0.826759</td>\n",
       "    </tr>\n",
       "    <tr>\n",
       "      <th>2013-01-02</th>\n",
       "      <td>0.335830</td>\n",
       "      <td>-0.655428</td>\n",
       "      <td>0.504784</td>\n",
       "      <td>-1.914111</td>\n",
       "    </tr>\n",
       "    <tr>\n",
       "      <th>2013-01-06</th>\n",
       "      <td>0.915287</td>\n",
       "      <td>-0.489302</td>\n",
       "      <td>-0.518009</td>\n",
       "      <td>1.403608</td>\n",
       "    </tr>\n",
       "    <tr>\n",
       "      <th>2013-01-05</th>\n",
       "      <td>1.046846</td>\n",
       "      <td>0.153002</td>\n",
       "      <td>0.262791</td>\n",
       "      <td>-0.270367</td>\n",
       "    </tr>\n",
       "    <tr>\n",
       "      <th>2013-01-04</th>\n",
       "      <td>-0.548608</td>\n",
       "      <td>0.222500</td>\n",
       "      <td>2.707359</td>\n",
       "      <td>1.554685</td>\n",
       "    </tr>\n",
       "    <tr>\n",
       "      <th>2013-01-08</th>\n",
       "      <td>-0.045291</td>\n",
       "      <td>0.341185</td>\n",
       "      <td>-0.736567</td>\n",
       "      <td>0.201288</td>\n",
       "    </tr>\n",
       "    <tr>\n",
       "      <th>2013-01-03</th>\n",
       "      <td>-1.279634</td>\n",
       "      <td>0.889081</td>\n",
       "      <td>2.453369</td>\n",
       "      <td>-0.905170</td>\n",
       "    </tr>\n",
       "  </tbody>\n",
       "</table>\n",
       "</div>"
      ],
      "text/plain": [
       "                   A         B         C         D\n",
       "2013-01-07 -0.961829 -2.034516  0.368461 -0.809656\n",
       "2013-01-01 -1.047983 -0.811500  0.052438  0.826759\n",
       "2013-01-02  0.335830 -0.655428  0.504784 -1.914111\n",
       "2013-01-06  0.915287 -0.489302 -0.518009  1.403608\n",
       "2013-01-05  1.046846  0.153002  0.262791 -0.270367\n",
       "2013-01-04 -0.548608  0.222500  2.707359  1.554685\n",
       "2013-01-08 -0.045291  0.341185 -0.736567  0.201288\n",
       "2013-01-03 -1.279634  0.889081  2.453369 -0.905170"
      ]
     },
     "execution_count": 42,
     "metadata": {},
     "output_type": "execute_result"
    }
   ],
   "source": [
    "df.sort_values(by='B')"
   ]
  },
  {
   "cell_type": "markdown",
   "metadata": {},
   "source": [
    "## Selecting values"
   ]
  },
  {
   "cell_type": "markdown",
   "metadata": {},
   "source": [
    "#### Display a single column"
   ]
  },
  {
   "cell_type": "code",
   "execution_count": 43,
   "metadata": {
    "collapsed": false
   },
   "outputs": [
    {
     "data": {
      "text/plain": [
       "2013-01-01   -1.047983\n",
       "2013-01-02    0.335830\n",
       "2013-01-03   -1.279634\n",
       "2013-01-04   -0.548608\n",
       "2013-01-05    1.046846\n",
       "2013-01-06    0.915287\n",
       "2013-01-07   -0.961829\n",
       "2013-01-08   -0.045291\n",
       "Freq: D, Name: A, dtype: float64"
      ]
     },
     "execution_count": 43,
     "metadata": {},
     "output_type": "execute_result"
    }
   ],
   "source": [
    "df['A']"
   ]
  },
  {
   "cell_type": "markdown",
   "metadata": {},
   "source": [
    "#### Slicing rows"
   ]
  },
  {
   "cell_type": "code",
   "execution_count": 44,
   "metadata": {
    "collapsed": false
   },
   "outputs": [
    {
     "data": {
      "text/html": [
       "<div>\n",
       "<table border=\"1\" class=\"dataframe\">\n",
       "  <thead>\n",
       "    <tr style=\"text-align: right;\">\n",
       "      <th></th>\n",
       "      <th>A</th>\n",
       "      <th>B</th>\n",
       "      <th>C</th>\n",
       "      <th>D</th>\n",
       "    </tr>\n",
       "  </thead>\n",
       "  <tbody>\n",
       "    <tr>\n",
       "      <th>2013-01-01</th>\n",
       "      <td>-1.047983</td>\n",
       "      <td>-0.811500</td>\n",
       "      <td>0.052438</td>\n",
       "      <td>0.826759</td>\n",
       "    </tr>\n",
       "    <tr>\n",
       "      <th>2013-01-02</th>\n",
       "      <td>0.335830</td>\n",
       "      <td>-0.655428</td>\n",
       "      <td>0.504784</td>\n",
       "      <td>-1.914111</td>\n",
       "    </tr>\n",
       "    <tr>\n",
       "      <th>2013-01-03</th>\n",
       "      <td>-1.279634</td>\n",
       "      <td>0.889081</td>\n",
       "      <td>2.453369</td>\n",
       "      <td>-0.905170</td>\n",
       "    </tr>\n",
       "  </tbody>\n",
       "</table>\n",
       "</div>"
      ],
      "text/plain": [
       "                   A         B         C         D\n",
       "2013-01-01 -1.047983 -0.811500  0.052438  0.826759\n",
       "2013-01-02  0.335830 -0.655428  0.504784 -1.914111\n",
       "2013-01-03 -1.279634  0.889081  2.453369 -0.905170"
      ]
     },
     "execution_count": 44,
     "metadata": {},
     "output_type": "execute_result"
    }
   ],
   "source": [
    "df[0:3]"
   ]
  },
  {
   "cell_type": "markdown",
   "metadata": {},
   "source": [
    "#### Slicing columns"
   ]
  },
  {
   "cell_type": "code",
   "execution_count": 45,
   "metadata": {
    "collapsed": false
   },
   "outputs": [
    {
     "data": {
      "text/plain": [
       "A    0.335830\n",
       "B   -0.655428\n",
       "C    0.504784\n",
       "D   -1.914111\n",
       "Name: 2013-01-02 00:00:00, dtype: float64"
      ]
     },
     "execution_count": 45,
     "metadata": {},
     "output_type": "execute_result"
    }
   ],
   "source": [
    "df.loc[dates[1]]"
   ]
  },
  {
   "cell_type": "markdown",
   "metadata": {},
   "source": [
    "#### Slicing any axis"
   ]
  },
  {
   "cell_type": "code",
   "execution_count": 46,
   "metadata": {
    "collapsed": false
   },
   "outputs": [
    {
     "data": {
      "text/html": [
       "<div>\n",
       "<table border=\"1\" class=\"dataframe\">\n",
       "  <thead>\n",
       "    <tr style=\"text-align: right;\">\n",
       "      <th></th>\n",
       "      <th>A</th>\n",
       "      <th>B</th>\n",
       "    </tr>\n",
       "  </thead>\n",
       "  <tbody>\n",
       "    <tr>\n",
       "      <th>2013-01-01</th>\n",
       "      <td>-1.047983</td>\n",
       "      <td>-0.811500</td>\n",
       "    </tr>\n",
       "    <tr>\n",
       "      <th>2013-01-02</th>\n",
       "      <td>0.335830</td>\n",
       "      <td>-0.655428</td>\n",
       "    </tr>\n",
       "    <tr>\n",
       "      <th>2013-01-03</th>\n",
       "      <td>-1.279634</td>\n",
       "      <td>0.889081</td>\n",
       "    </tr>\n",
       "    <tr>\n",
       "      <th>2013-01-04</th>\n",
       "      <td>-0.548608</td>\n",
       "      <td>0.222500</td>\n",
       "    </tr>\n",
       "    <tr>\n",
       "      <th>2013-01-05</th>\n",
       "      <td>1.046846</td>\n",
       "      <td>0.153002</td>\n",
       "    </tr>\n",
       "    <tr>\n",
       "      <th>2013-01-06</th>\n",
       "      <td>0.915287</td>\n",
       "      <td>-0.489302</td>\n",
       "    </tr>\n",
       "    <tr>\n",
       "      <th>2013-01-07</th>\n",
       "      <td>-0.961829</td>\n",
       "      <td>-2.034516</td>\n",
       "    </tr>\n",
       "    <tr>\n",
       "      <th>2013-01-08</th>\n",
       "      <td>-0.045291</td>\n",
       "      <td>0.341185</td>\n",
       "    </tr>\n",
       "  </tbody>\n",
       "</table>\n",
       "</div>"
      ],
      "text/plain": [
       "                   A         B\n",
       "2013-01-01 -1.047983 -0.811500\n",
       "2013-01-02  0.335830 -0.655428\n",
       "2013-01-03 -1.279634  0.889081\n",
       "2013-01-04 -0.548608  0.222500\n",
       "2013-01-05  1.046846  0.153002\n",
       "2013-01-06  0.915287 -0.489302\n",
       "2013-01-07 -0.961829 -2.034516\n",
       "2013-01-08 -0.045291  0.341185"
      ]
     },
     "execution_count": 46,
     "metadata": {},
     "output_type": "execute_result"
    }
   ],
   "source": [
    "df.loc[:,['A','B']]"
   ]
  },
  {
   "cell_type": "markdown",
   "metadata": {},
   "source": [
    "#### Slicing an arbitrary range within the dataframe"
   ]
  },
  {
   "cell_type": "code",
   "execution_count": 48,
   "metadata": {
    "collapsed": false
   },
   "outputs": [
    {
     "data": {
      "text/html": [
       "<div>\n",
       "<table border=\"1\" class=\"dataframe\">\n",
       "  <thead>\n",
       "    <tr style=\"text-align: right;\">\n",
       "      <th></th>\n",
       "      <th>B</th>\n",
       "      <th>C</th>\n",
       "    </tr>\n",
       "  </thead>\n",
       "  <tbody>\n",
       "    <tr>\n",
       "      <th>2013-01-02</th>\n",
       "      <td>-0.655428</td>\n",
       "      <td>0.504784</td>\n",
       "    </tr>\n",
       "    <tr>\n",
       "      <th>2013-01-03</th>\n",
       "      <td>0.889081</td>\n",
       "      <td>2.453369</td>\n",
       "    </tr>\n",
       "    <tr>\n",
       "      <th>2013-01-04</th>\n",
       "      <td>0.222500</td>\n",
       "      <td>2.707359</td>\n",
       "    </tr>\n",
       "    <tr>\n",
       "      <th>2013-01-05</th>\n",
       "      <td>0.153002</td>\n",
       "      <td>0.262791</td>\n",
       "    </tr>\n",
       "  </tbody>\n",
       "</table>\n",
       "</div>"
      ],
      "text/plain": [
       "                   B         C\n",
       "2013-01-02 -0.655428  0.504784\n",
       "2013-01-03  0.889081  2.453369\n",
       "2013-01-04  0.222500  2.707359\n",
       "2013-01-05  0.153002  0.262791"
      ]
     },
     "execution_count": 48,
     "metadata": {},
     "output_type": "execute_result"
    }
   ],
   "source": [
    "df.loc['20130102':'20130105', ['B', 'C']]"
   ]
  },
  {
   "cell_type": "markdown",
   "metadata": {},
   "source": [
    "#### Slicing a single scalar value"
   ]
  },
  {
   "cell_type": "code",
   "execution_count": 49,
   "metadata": {
    "collapsed": false
   },
   "outputs": [
    {
     "data": {
      "text/plain": [
       "-0.90516988718331781"
      ]
     },
     "execution_count": 49,
     "metadata": {},
     "output_type": "execute_result"
    }
   ],
   "source": [
    "df.loc['20130103', 'D']"
   ]
  },
  {
   "cell_type": "markdown",
   "metadata": {},
   "source": [
    "## Selecting by index position"
   ]
  },
  {
   "cell_type": "markdown",
   "metadata": {},
   "source": [
    "Same methods as before, using <code>df.iloc</code> instead"
   ]
  },
  {
   "cell_type": "code",
   "execution_count": 51,
   "metadata": {
    "collapsed": false
   },
   "outputs": [
    {
     "data": {
      "text/html": [
       "<div>\n",
       "<table border=\"1\" class=\"dataframe\">\n",
       "  <thead>\n",
       "    <tr style=\"text-align: right;\">\n",
       "      <th></th>\n",
       "      <th>A</th>\n",
       "      <th>B</th>\n",
       "    </tr>\n",
       "  </thead>\n",
       "  <tbody>\n",
       "    <tr>\n",
       "      <th>2013-01-04</th>\n",
       "      <td>-0.548608</td>\n",
       "      <td>0.222500</td>\n",
       "    </tr>\n",
       "    <tr>\n",
       "      <th>2013-01-05</th>\n",
       "      <td>1.046846</td>\n",
       "      <td>0.153002</td>\n",
       "    </tr>\n",
       "  </tbody>\n",
       "</table>\n",
       "</div>"
      ],
      "text/plain": [
       "                   A         B\n",
       "2013-01-04 -0.548608  0.222500\n",
       "2013-01-05  1.046846  0.153002"
      ]
     },
     "execution_count": 51,
     "metadata": {},
     "output_type": "execute_result"
    }
   ],
   "source": [
    "df.iloc[3:5, 0:2]"
   ]
  },
  {
   "cell_type": "code",
   "execution_count": 52,
   "metadata": {
    "collapsed": false
   },
   "outputs": [
    {
     "data": {
      "text/html": [
       "<div>\n",
       "<table border=\"1\" class=\"dataframe\">\n",
       "  <thead>\n",
       "    <tr style=\"text-align: right;\">\n",
       "      <th></th>\n",
       "      <th>A</th>\n",
       "      <th>B</th>\n",
       "      <th>C</th>\n",
       "      <th>D</th>\n",
       "    </tr>\n",
       "  </thead>\n",
       "  <tbody>\n",
       "    <tr>\n",
       "      <th>2013-01-02</th>\n",
       "      <td>0.335830</td>\n",
       "      <td>-0.655428</td>\n",
       "      <td>0.504784</td>\n",
       "      <td>-1.914111</td>\n",
       "    </tr>\n",
       "    <tr>\n",
       "      <th>2013-01-03</th>\n",
       "      <td>-1.279634</td>\n",
       "      <td>0.889081</td>\n",
       "      <td>2.453369</td>\n",
       "      <td>-0.905170</td>\n",
       "    </tr>\n",
       "    <tr>\n",
       "      <th>2013-01-04</th>\n",
       "      <td>-0.548608</td>\n",
       "      <td>0.222500</td>\n",
       "      <td>2.707359</td>\n",
       "      <td>1.554685</td>\n",
       "    </tr>\n",
       "  </tbody>\n",
       "</table>\n",
       "</div>"
      ],
      "text/plain": [
       "                   A         B         C         D\n",
       "2013-01-02  0.335830 -0.655428  0.504784 -1.914111\n",
       "2013-01-03 -1.279634  0.889081  2.453369 -0.905170\n",
       "2013-01-04 -0.548608  0.222500  2.707359  1.554685"
      ]
     },
     "execution_count": 52,
     "metadata": {},
     "output_type": "execute_result"
    }
   ],
   "source": [
    "df.iloc[1:4,:]"
   ]
  },
  {
   "cell_type": "markdown",
   "metadata": {},
   "source": [
    "## Filtering data with boolean operations"
   ]
  },
  {
   "cell_type": "markdown",
   "metadata": {},
   "source": [
    "#### Filtering out rows which don't meet criteria"
   ]
  },
  {
   "cell_type": "code",
   "execution_count": 54,
   "metadata": {
    "collapsed": false
   },
   "outputs": [
    {
     "data": {
      "text/html": [
       "<div>\n",
       "<table border=\"1\" class=\"dataframe\">\n",
       "  <thead>\n",
       "    <tr style=\"text-align: right;\">\n",
       "      <th></th>\n",
       "      <th>A</th>\n",
       "      <th>B</th>\n",
       "      <th>C</th>\n",
       "      <th>D</th>\n",
       "    </tr>\n",
       "  </thead>\n",
       "  <tbody>\n",
       "    <tr>\n",
       "      <th>2013-01-02</th>\n",
       "      <td>0.335830</td>\n",
       "      <td>-0.655428</td>\n",
       "      <td>0.504784</td>\n",
       "      <td>-1.914111</td>\n",
       "    </tr>\n",
       "    <tr>\n",
       "      <th>2013-01-05</th>\n",
       "      <td>1.046846</td>\n",
       "      <td>0.153002</td>\n",
       "      <td>0.262791</td>\n",
       "      <td>-0.270367</td>\n",
       "    </tr>\n",
       "    <tr>\n",
       "      <th>2013-01-06</th>\n",
       "      <td>0.915287</td>\n",
       "      <td>-0.489302</td>\n",
       "      <td>-0.518009</td>\n",
       "      <td>1.403608</td>\n",
       "    </tr>\n",
       "  </tbody>\n",
       "</table>\n",
       "</div>"
      ],
      "text/plain": [
       "                   A         B         C         D\n",
       "2013-01-02  0.335830 -0.655428  0.504784 -1.914111\n",
       "2013-01-05  1.046846  0.153002  0.262791 -0.270367\n",
       "2013-01-06  0.915287 -0.489302 -0.518009  1.403608"
      ]
     },
     "execution_count": 54,
     "metadata": {},
     "output_type": "execute_result"
    }
   ],
   "source": [
    "df[df.A > 0]"
   ]
  },
  {
   "cell_type": "markdown",
   "metadata": {},
   "source": [
    "#### Showing all values that meet criteria"
   ]
  },
  {
   "cell_type": "code",
   "execution_count": 55,
   "metadata": {
    "collapsed": false
   },
   "outputs": [
    {
     "data": {
      "text/html": [
       "<div>\n",
       "<table border=\"1\" class=\"dataframe\">\n",
       "  <thead>\n",
       "    <tr style=\"text-align: right;\">\n",
       "      <th></th>\n",
       "      <th>A</th>\n",
       "      <th>B</th>\n",
       "      <th>C</th>\n",
       "      <th>D</th>\n",
       "    </tr>\n",
       "  </thead>\n",
       "  <tbody>\n",
       "    <tr>\n",
       "      <th>2013-01-01</th>\n",
       "      <td>NaN</td>\n",
       "      <td>NaN</td>\n",
       "      <td>0.052438</td>\n",
       "      <td>0.826759</td>\n",
       "    </tr>\n",
       "    <tr>\n",
       "      <th>2013-01-02</th>\n",
       "      <td>0.335830</td>\n",
       "      <td>NaN</td>\n",
       "      <td>0.504784</td>\n",
       "      <td>NaN</td>\n",
       "    </tr>\n",
       "    <tr>\n",
       "      <th>2013-01-03</th>\n",
       "      <td>NaN</td>\n",
       "      <td>0.889081</td>\n",
       "      <td>2.453369</td>\n",
       "      <td>NaN</td>\n",
       "    </tr>\n",
       "    <tr>\n",
       "      <th>2013-01-04</th>\n",
       "      <td>NaN</td>\n",
       "      <td>0.222500</td>\n",
       "      <td>2.707359</td>\n",
       "      <td>1.554685</td>\n",
       "    </tr>\n",
       "    <tr>\n",
       "      <th>2013-01-05</th>\n",
       "      <td>1.046846</td>\n",
       "      <td>0.153002</td>\n",
       "      <td>0.262791</td>\n",
       "      <td>NaN</td>\n",
       "    </tr>\n",
       "    <tr>\n",
       "      <th>2013-01-06</th>\n",
       "      <td>0.915287</td>\n",
       "      <td>NaN</td>\n",
       "      <td>NaN</td>\n",
       "      <td>1.403608</td>\n",
       "    </tr>\n",
       "    <tr>\n",
       "      <th>2013-01-07</th>\n",
       "      <td>NaN</td>\n",
       "      <td>NaN</td>\n",
       "      <td>0.368461</td>\n",
       "      <td>NaN</td>\n",
       "    </tr>\n",
       "    <tr>\n",
       "      <th>2013-01-08</th>\n",
       "      <td>NaN</td>\n",
       "      <td>0.341185</td>\n",
       "      <td>NaN</td>\n",
       "      <td>0.201288</td>\n",
       "    </tr>\n",
       "  </tbody>\n",
       "</table>\n",
       "</div>"
      ],
      "text/plain": [
       "                   A         B         C         D\n",
       "2013-01-01       NaN       NaN  0.052438  0.826759\n",
       "2013-01-02  0.335830       NaN  0.504784       NaN\n",
       "2013-01-03       NaN  0.889081  2.453369       NaN\n",
       "2013-01-04       NaN  0.222500  2.707359  1.554685\n",
       "2013-01-05  1.046846  0.153002  0.262791       NaN\n",
       "2013-01-06  0.915287       NaN       NaN  1.403608\n",
       "2013-01-07       NaN       NaN  0.368461       NaN\n",
       "2013-01-08       NaN  0.341185       NaN  0.201288"
      ]
     },
     "execution_count": 55,
     "metadata": {},
     "output_type": "execute_result"
    }
   ],
   "source": [
    "df[df > 0]"
   ]
  },
  {
   "cell_type": "markdown",
   "metadata": {},
   "source": [
    "## Setting values"
   ]
  },
  {
   "cell_type": "markdown",
   "metadata": {},
   "source": [
    "#### Adding a new column"
   ]
  },
  {
   "cell_type": "code",
   "execution_count": 65,
   "metadata": {
    "collapsed": false
   },
   "outputs": [
    {
     "data": {
      "text/html": [
       "<div>\n",
       "<table border=\"1\" class=\"dataframe\">\n",
       "  <thead>\n",
       "    <tr style=\"text-align: right;\">\n",
       "      <th></th>\n",
       "      <th>A</th>\n",
       "      <th>B</th>\n",
       "      <th>C</th>\n",
       "      <th>D</th>\n",
       "      <th>E</th>\n",
       "    </tr>\n",
       "  </thead>\n",
       "  <tbody>\n",
       "    <tr>\n",
       "      <th>2013-01-01</th>\n",
       "      <td>-0.753207</td>\n",
       "      <td>-0.993216</td>\n",
       "      <td>-1.533464</td>\n",
       "      <td>-2.330010</td>\n",
       "      <td>UK</td>\n",
       "    </tr>\n",
       "    <tr>\n",
       "      <th>2013-01-02</th>\n",
       "      <td>0.772204</td>\n",
       "      <td>0.071559</td>\n",
       "      <td>-0.420493</td>\n",
       "      <td>0.138025</td>\n",
       "      <td>Germany</td>\n",
       "    </tr>\n",
       "    <tr>\n",
       "      <th>2013-01-03</th>\n",
       "      <td>0.963797</td>\n",
       "      <td>0.813247</td>\n",
       "      <td>-0.157811</td>\n",
       "      <td>0.495329</td>\n",
       "      <td>UK</td>\n",
       "    </tr>\n",
       "    <tr>\n",
       "      <th>2013-01-04</th>\n",
       "      <td>-0.049828</td>\n",
       "      <td>0.872155</td>\n",
       "      <td>1.811954</td>\n",
       "      <td>0.404826</td>\n",
       "      <td>UK</td>\n",
       "    </tr>\n",
       "    <tr>\n",
       "      <th>2013-01-05</th>\n",
       "      <td>-0.886720</td>\n",
       "      <td>1.288625</td>\n",
       "      <td>-0.465624</td>\n",
       "      <td>-0.225705</td>\n",
       "      <td>France</td>\n",
       "    </tr>\n",
       "    <tr>\n",
       "      <th>2013-01-06</th>\n",
       "      <td>0.108346</td>\n",
       "      <td>0.284166</td>\n",
       "      <td>0.580523</td>\n",
       "      <td>1.737133</td>\n",
       "      <td>Sweden</td>\n",
       "    </tr>\n",
       "    <tr>\n",
       "      <th>2013-01-07</th>\n",
       "      <td>-0.146902</td>\n",
       "      <td>1.322573</td>\n",
       "      <td>0.186455</td>\n",
       "      <td>1.200900</td>\n",
       "      <td>UK</td>\n",
       "    </tr>\n",
       "    <tr>\n",
       "      <th>2013-01-08</th>\n",
       "      <td>0.613158</td>\n",
       "      <td>0.925278</td>\n",
       "      <td>0.014431</td>\n",
       "      <td>-0.244244</td>\n",
       "      <td>USA</td>\n",
       "    </tr>\n",
       "  </tbody>\n",
       "</table>\n",
       "</div>"
      ],
      "text/plain": [
       "                   A         B         C         D        E\n",
       "2013-01-01 -0.753207 -0.993216 -1.533464 -2.330010       UK\n",
       "2013-01-02  0.772204  0.071559 -0.420493  0.138025  Germany\n",
       "2013-01-03  0.963797  0.813247 -0.157811  0.495329       UK\n",
       "2013-01-04 -0.049828  0.872155  1.811954  0.404826       UK\n",
       "2013-01-05 -0.886720  1.288625 -0.465624 -0.225705   France\n",
       "2013-01-06  0.108346  0.284166  0.580523  1.737133   Sweden\n",
       "2013-01-07 -0.146902  1.322573  0.186455  1.200900       UK\n",
       "2013-01-08  0.613158  0.925278  0.014431 -0.244244      USA"
      ]
     },
     "execution_count": 65,
     "metadata": {},
     "output_type": "execute_result"
    }
   ],
   "source": [
    "df['E'] = ['UK', 'Germany', 'UK', 'UK', 'France', 'Sweden', 'UK', 'USA']\n",
    "df"
   ]
  },
  {
   "cell_type": "markdown",
   "metadata": {},
   "source": [
    "Or we could predefine a series and then set this to be a new index"
   ]
  },
  {
   "cell_type": "code",
   "execution_count": null,
   "metadata": {
    "collapsed": true
   },
   "outputs": [],
   "source": []
  }
 ],
 "metadata": {
  "anaconda-cloud": {},
  "kernelspec": {
   "display_name": "Python [conda root]",
   "language": "python",
   "name": "conda-root-py"
  },
  "language_info": {
   "codemirror_mode": {
    "name": "ipython",
    "version": 3
   },
   "file_extension": ".py",
   "mimetype": "text/x-python",
   "name": "python",
   "nbconvert_exporter": "python",
   "pygments_lexer": "ipython3",
   "version": "3.5.2"
  }
 },
 "nbformat": 4,
 "nbformat_minor": 1
}
